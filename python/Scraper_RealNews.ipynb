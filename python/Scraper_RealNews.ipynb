{
 "cells": [
  {
   "cell_type": "markdown",
   "metadata": {},
   "source": [
    "# Real News Scraper\n",
    "\n",
    "This notebook walks through using Beautiful Soup(python scraping module) for the first time.\n",
    "Our working goal is a collection of real news texts to be used in Fake vs Real News classificaion. See https://github.com/dcurry09/FakeNews_Classifier.\n",
    "\n",
    "We will be scraping news articles from the left, right, and center categories.  An assumption, perhaps a biased one, is that all news articles from AllSides.com are considered \"real\".\n",
    "\n",
    "Output will be real news articles in a CSV file(headers include title and text only)."
   ]
  },
  {
   "cell_type": "code",
   "execution_count": 1,
   "metadata": {
    "collapsed": true
   },
   "outputs": [],
   "source": [
    "# Scraping Packages\n",
    "import requests\n",
    "from bs4 import BeautifulSoup\n",
    "import newspaper\n",
    "import textacy as tcy\n",
    "\n",
    "# Standard Libraries\n",
    "import re\n",
    "from collections import defaultdict\n",
    "import csv as csv\n",
    "import numpy as np\n",
    "import pandas as pd\n",
    "import pylab as py\n",
    "import operator\n",
    "import time\n",
    "import progressbar\n",
    "import matplotlib.pyplot as plt\n",
    "from collections import Counter"
   ]
  },
  {
   "cell_type": "markdown",
   "metadata": {},
   "source": [
    "We define a single news article URL as a test case of scraping(single article first, then loop over nmany)."
   ]
  },
  {
   "cell_type": "code",
   "execution_count": 2,
   "metadata": {
    "collapsed": true
   },
   "outputs": [],
   "source": [
    "# Collect first Article Text\n",
    "page = requests.get('https://www.allsides.com/story/warren-says-dnc-rigged-nomination')\n",
    "\n",
    "# Create a BeautifulSoup object\n",
    "soup = BeautifulSoup(page.text, 'html.parser')"
   ]
  },
  {
   "cell_type": "markdown",
   "metadata": {},
   "source": [
    "Now we have an object(page) and a BS object(soup).  Let us first print out page just to see what has been defined:"
   ]
  },
  {
   "cell_type": "code",
   "execution_count": 3,
   "metadata": {},
   "outputs": [
    {
     "name": "stdout",
     "output_type": "stream",
     "text": [
      "<!DOCTYPE html>\n",
      "<!--[if IEMobile 7]><html class=\"iem7\"  lang=\"en\" dir=\"ltr\"><![endif]-->\n",
      "<!--[if lte IE 6]><html class=\"lt-ie9 lt-ie8 lt-ie7\"  lang=\"en\" dir=\"ltr\"><![endif]-->\n",
      "<!--[if (IE 7)&(!IEMobile)]><html class=\"lt-ie9 lt-ie8\"  lang=\"en\" dir=\"ltr\"><![endif]-->\n",
      "<!--[if IE 8]><html class=\"lt-ie9\"  lang=\"en\" dir=\"ltr\"><![endif]-->\n",
      "<!--[if (gte IE 9)|(gt IEMobile 7)]><!--><html  lang=\"en\" dir=\"ltr\" prefix=\"og: http://ogp.me/ns# article: http://ogp.me/ns/article# book: http://ogp.me/ns/book# profile: http://ogp.me/ns/profile# video: http://ogp.me/ns/video# product: http://ogp.me/ns/product# content: http://purl.org/rss/1.0/modules/content/ dc: http://purl.org/dc/terms/ foaf: http://xmlns.com/foaf/0.1/ rdfs: http://www.w3.org/2000/01/rdf-schema# sioc: http://rdfs.org/sioc/ns# sioct: http://rdfs.org/sioc/types# skos: http://www.w3.org/2004/02/skos/core# xsd: http://www.w3.org/2001/XMLSchema#\"><!--<![endif]-->\n",
      "\n",
      "<head profile=\"http://www.w3.org/1999/xhtml/vocab\">\n",
      "\n",
      "\n",
      "  <meta charset=\"utf-8\" \n"
     ]
    }
   ],
   "source": [
    "print(page.text[:1000])"
   ]
  },
  {
   "cell_type": "markdown",
   "metadata": {},
   "source": [
    "This is the same as if we had right clicked on the webpage and choosen \"Inspect\".  This is our HTML object.  Our job now is to identify where the article text is in the HTML and extract it.  By inspecting the web pahe HTML structure I have found a div item with a class that contains the body text."
   ]
  },
  {
   "cell_type": "code",
   "execution_count": 4,
   "metadata": {},
   "outputs": [
    {
     "name": "stdout",
     "output_type": "stream",
     "text": [
      "<class 'bs4.element.ResultSet'>\n",
      "1\n",
      "[<div class=\"story-id-page-description\">\n",
      "<p>Senator Elizabeth Warren (D-MA) answered that yes, she believed the Democratic primary was rigged to favor Hillary Clinton when asked Thursday about former Democratic National Committee Chairwoman Donna Brazile’s explosive admission that the Clinton campaign had control of the DNC before Clinton secured the nomination.</p>\n",
      "</div>]\n"
     ]
    }
   ],
   "source": [
    "body_text = soup.find_all('div', class_ = 'story-id-page-description')\n",
    "print(type(body_text))\n",
    "print(len(body_text))\n",
    "print(body_text)"
   ]
  },
  {
   "cell_type": "markdown",
   "metadata": {},
   "source": [
    "Now lets assign just the text to an object"
   ]
  },
  {
   "cell_type": "code",
   "execution_count": 5,
   "metadata": {},
   "outputs": [
    {
     "name": "stdout",
     "output_type": "stream",
     "text": [
      "<div class=\"story-id-page-description\">\n",
      "<p>Senator Elizabeth Warren (D-MA) answered that yes, she believed the Democratic primary was rigged to favor Hillary Clinton when asked Thursday about former Democratic National Committee Chairwoman Donna Brazile’s explosive admission that the Clinton campaign had control of the DNC before Clinton secured the nomination.</p>\n",
      "</div>\n"
     ]
    }
   ],
   "source": [
    "for i in body_text: print(i)"
   ]
  },
  {
   "cell_type": "markdown",
   "metadata": {},
   "source": [
    "In order to access each element in body_text we need to make it a list"
   ]
  },
  {
   "cell_type": "code",
   "execution_count": 6,
   "metadata": {},
   "outputs": [
    {
     "name": "stdout",
     "output_type": "stream",
     "text": [
      "<p>Senator Elizabeth Warren (D-MA) answered that yes, she believed the Democratic primary was rigged to favor Hillary Clinton when asked Thursday about former Democratic National Committee Chairwoman Donna Brazile’s explosive admission that the Clinton campaign had control of the DNC before Clinton secured the nomination.</p>\n"
     ]
    }
   ],
   "source": [
    "body_text_list = body_text[0]\n",
    "print(body_text_list.p)"
   ]
  },
  {
   "cell_type": "code",
   "execution_count": 7,
   "metadata": {},
   "outputs": [
    {
     "name": "stdout",
     "output_type": "stream",
     "text": [
      "Senator Elizabeth Warren (D-MA) answered that yes, she believed the Democratic primary was rigged to favor Hillary Clinton when asked Thursday about former Democratic National Committee Chairwoman Donna Brazile’s explosive admission that the Clinton campaign had control of the DNC before Clinton secured the nomination.\n"
     ]
    }
   ],
   "source": [
    "print(body_text_list.p.text)"
   ]
  },
  {
   "cell_type": "markdown",
   "metadata": {},
   "source": [
    "Bingo!  Ok so we have one article of text.  We need to store this first article in a CSV file, then perform many times across the website.  Lets start by creating a pandas dataframe."
   ]
  },
  {
   "cell_type": "code",
   "execution_count": 8,
   "metadata": {},
   "outputs": [
    {
     "name": "stdout",
     "output_type": "stream",
     "text": [
      "<class 'pandas.core.frame.DataFrame'>\n",
      "RangeIndex: 1 entries, 0 to 0\n",
      "Data columns (total 1 columns):\n",
      "text    1 non-null object\n",
      "dtypes: object(1)\n",
      "memory usage: 88.0+ bytes\n",
      "None\n"
     ]
    },
    {
     "data": {
      "text/html": [
       "<div>\n",
       "<style>\n",
       "    .dataframe thead tr:only-child th {\n",
       "        text-align: right;\n",
       "    }\n",
       "\n",
       "    .dataframe thead th {\n",
       "        text-align: left;\n",
       "    }\n",
       "\n",
       "    .dataframe tbody tr th {\n",
       "        vertical-align: top;\n",
       "    }\n",
       "</style>\n",
       "<table border=\"1\" class=\"dataframe\">\n",
       "  <thead>\n",
       "    <tr style=\"text-align: right;\">\n",
       "      <th></th>\n",
       "      <th>text</th>\n",
       "    </tr>\n",
       "  </thead>\n",
       "  <tbody>\n",
       "    <tr>\n",
       "      <th>0</th>\n",
       "      <td>Senator Elizabeth Warren (D-MA) answered that ...</td>\n",
       "    </tr>\n",
       "  </tbody>\n",
       "</table>\n",
       "</div>"
      ],
      "text/plain": [
       "                                                text\n",
       "0  Senator Elizabeth Warren (D-MA) answered that ..."
      ]
     },
     "execution_count": 8,
     "metadata": {},
     "output_type": "execute_result"
    }
   ],
   "source": [
    "final_text = body_text_list.p.text\n",
    "test_df = pd.DataFrame({'text': [final_text]})\n",
    "\n",
    "print(test_df.info())\n",
    "test_df"
   ]
  },
  {
   "cell_type": "markdown",
   "metadata": {},
   "source": [
    "## Moving Beyond Single Articles\n",
    "We now we expand the scope of our scraping code to include multiple websites and multiple artcicles.  We will be suing the Newspaper package of tools to help us streamline this process.  Below are a few functions that help wrap the entire workflow together(from the nice blog: https://dataflume.wordpress.com/2017/04/23/scraping-newspaper-text-and-computing-readability-statistics-in-python/)"
   ]
  },
  {
   "cell_type": "code",
   "execution_count": 9,
   "metadata": {
    "collapsed": true
   },
   "outputs": [],
   "source": [
    "def article_extractor(newspaper_url, title_topic=None):\n",
    "    '''\n",
    "    Extracts News article text for a given URL.\n",
    "    Uses Newspaper modules and returns a pandas DF of text.\n",
    "    '''\n",
    "        \n",
    "    dd = defaultdict(list)\n",
    "\n",
    "    source = newspaper.build(newspaper_url, memoize_articles=False)\n",
    "\n",
    "    print(\"\\nExtracting articles from\", newspaper_url)    \n",
    "    print(\"# of Articles:\", source.size()) \n",
    "    #print(source.articles)    \n",
    "        \n",
    "    arts = [i.url for i in source.articles]\n",
    "    \n",
    "    print(\"# of Article URLs:\", len(arts))  \n",
    "        \n",
    "        \n",
    "    if title_topic is None:\n",
    "        relevant_arts = [i for i in arts]\n",
    "    else:\n",
    "        relevant_arts = [i for i in arts if title_topic in i]\n",
    "\n",
    "    print(\"# of Relevant Articles:\", len(relevant_arts))\n",
    "        \n",
    "    bar = progressbar.ProgressBar()\n",
    "        \n",
    "    for i in bar(relevant_arts):\n",
    "        time.sleep(0.02)\n",
    "\n",
    "        try:\n",
    "            art = newspaper.build_article(i)\n",
    "            art.download()\n",
    "            art.parse()\n",
    "            dd[\"title\"].append(art.title)\n",
    "            dd[\"text\"].append(art.text)\n",
    "        except:\n",
    "            print('ERROR: URL No Longer Available...')\n",
    "            continue\n",
    "        \n",
    "    print('DF:', pd.DataFrame.from_dict(dd).head(5))   \n",
    "        \n",
    "    return pd.DataFrame.from_dict(dd)\n",
    "\n",
    "def get_articles(newspaper_url):\n",
    "\n",
    "    results = []\n",
    "    for url in newspaper_url:\n",
    "        articles = article_extractor(url)\n",
    "        articles[\"paper\"] = url\n",
    "        results.append(articles)\n",
    "    return pd.concat(results)\n",
    "\n",
    "def clean_text(string):\n",
    "\n",
    "    string = re.sub(r\"SIGN UP FOR OUR NEWSLETTER\", \"\", string)\n",
    "    string = re.sub(r\"Read more here\", \"\", string)\n",
    "    string = re.sub(r\"REUTERS\", \"\", string)\n",
    "    string = re.sub(r\"\\?\", \"'\", string)\n",
    "    string = re.sub(r\"\\n\", \"\", string)\n",
    "    return string\n",
    "\n",
    "def preprocess_articles(articles):\n",
    "\n",
    "    clean_arts = []\n",
    "    for art in articles:\n",
    "        clean_art = tcy.preprocess.preprocess_text(art,\n",
    "                                          fix_unicode=True,\n",
    "                                          lowercase=True,\n",
    "                                          no_currency_symbols=True,\n",
    "                                          no_numbers=True,\n",
    "                                          no_urls=True)\n",
    "        clean_arts.append(clean_art)\n",
    "    return clean_arts"
   ]
  },
  {
   "cell_type": "code",
   "execution_count": 11,
   "metadata": {},
   "outputs": [
    {
     "name": "stderr",
     "output_type": "stream",
     "text": [
      "\r",
      "                                                                               \r",
      "\r",
      "N/A% (0 of 790) |                        | Elapsed Time: 0:00:00 ETA:  --:--:--"
     ]
    },
    {
     "name": "stdout",
     "output_type": "stream",
     "text": [
      "\n",
      "Extracting articles from http://cnn.com\n",
      "# of Articles: 790\n",
      "# of Article URLs: 790\n",
      "# of Relevant Articles: 790\n"
     ]
    },
    {
     "name": "stderr",
     "output_type": "stream",
     "text": [
      "  0% (2 of 790) |                         | Elapsed Time: 0:00:00 ETA:  0:03:48"
     ]
    },
    {
     "name": "stdout",
     "output_type": "stream",
     "text": [
      "Article `download()` failed with 404 Client Error: Not Found for url: http://www.cnn.com/hln-morning-express-tour-robin-meade on URL http://cnn.com/hln-morning-express-tour-robin-meade\n",
      "ERROR: URL No Longer Available...\n"
     ]
    },
    {
     "name": "stderr",
     "output_type": "stream",
     "text": [
      " 19% (157 of 790) |####                   | Elapsed Time: 0:02:31 ETA:  0:07:20/anaconda3/lib/python3.6/site-packages/PIL/TiffImagePlugin.py:692: UserWarning: Possibly corrupt EXIF data.  Expecting to read 8 bytes but only got 0. Skipping tag 33434\n",
      "  \" Skipping tag %s\" % (size, len(data), tag))\n",
      "/anaconda3/lib/python3.6/site-packages/PIL/TiffImagePlugin.py:692: UserWarning: Possibly corrupt EXIF data.  Expecting to read 8 bytes but only got 0. Skipping tag 33437\n",
      "  \" Skipping tag %s\" % (size, len(data), tag))\n",
      "/anaconda3/lib/python3.6/site-packages/PIL/TiffImagePlugin.py:692: UserWarning: Possibly corrupt EXIF data.  Expecting to read 20 bytes but only got 0. Skipping tag 36867\n",
      "  \" Skipping tag %s\" % (size, len(data), tag))\n",
      "/anaconda3/lib/python3.6/site-packages/PIL/TiffImagePlugin.py:692: UserWarning: Possibly corrupt EXIF data.  Expecting to read 20 bytes but only got 0. Skipping tag 36868\n",
      "  \" Skipping tag %s\" % (size, len(data), tag))\n",
      "/anaconda3/lib/python3.6/site-packages/PIL/TiffImagePlugin.py:692: UserWarning: Possibly corrupt EXIF data.  Expecting to read 8 bytes but only got 0. Skipping tag 37377\n",
      "  \" Skipping tag %s\" % (size, len(data), tag))\n",
      "/anaconda3/lib/python3.6/site-packages/PIL/TiffImagePlugin.py:692: UserWarning: Possibly corrupt EXIF data.  Expecting to read 8 bytes but only got 0. Skipping tag 37378\n",
      "  \" Skipping tag %s\" % (size, len(data), tag))\n",
      "/anaconda3/lib/python3.6/site-packages/PIL/TiffImagePlugin.py:692: UserWarning: Possibly corrupt EXIF data.  Expecting to read 8 bytes but only got 0. Skipping tag 37380\n",
      "  \" Skipping tag %s\" % (size, len(data), tag))\n",
      "/anaconda3/lib/python3.6/site-packages/PIL/TiffImagePlugin.py:692: UserWarning: Possibly corrupt EXIF data.  Expecting to read 8 bytes but only got 0. Skipping tag 37381\n",
      "  \" Skipping tag %s\" % (size, len(data), tag))\n",
      "/anaconda3/lib/python3.6/site-packages/PIL/TiffImagePlugin.py:692: UserWarning: Possibly corrupt EXIF data.  Expecting to read 8 bytes but only got 0. Skipping tag 37386\n",
      "  \" Skipping tag %s\" % (size, len(data), tag))\n",
      "/anaconda3/lib/python3.6/site-packages/PIL/TiffImagePlugin.py:692: UserWarning: Possibly corrupt EXIF data.  Expecting to read 8 bytes but only got 0. Skipping tag 41486\n",
      "  \" Skipping tag %s\" % (size, len(data), tag))\n",
      "/anaconda3/lib/python3.6/site-packages/PIL/TiffImagePlugin.py:692: UserWarning: Possibly corrupt EXIF data.  Expecting to read 8 bytes but only got 0. Skipping tag 41487\n",
      "  \" Skipping tag %s\" % (size, len(data), tag))\n",
      "/anaconda3/lib/python3.6/site-packages/PIL/TiffImagePlugin.py:692: UserWarning: Possibly corrupt EXIF data.  Expecting to read 8 bytes but only got 0. Skipping tag 41730\n",
      "  \" Skipping tag %s\" % (size, len(data), tag))\n",
      "/anaconda3/lib/python3.6/site-packages/PIL/TiffImagePlugin.py:709: UserWarning: Corrupt EXIF data.  Expecting to read 12 bytes but only got 2. \n",
      "  warnings.warn(str(msg))\n",
      " 24% (195 of 790) |#####                  | Elapsed Time: 0:03:47 ETA:  0:07:00/anaconda3/lib/python3.6/site-packages/PIL/TiffImagePlugin.py:692: UserWarning: Possibly corrupt EXIF data.  Expecting to read 264 bytes but only got 176. Skipping tag 37510\n",
      "  \" Skipping tag %s\" % (size, len(data), tag))\n",
      "/anaconda3/lib/python3.6/site-packages/PIL/TiffImagePlugin.py:709: UserWarning: Corrupt EXIF data.  Expecting to read 2 bytes but only got 0. \n",
      "  warnings.warn(str(msg))\n",
      "100% (790 of 790) |#######################| Elapsed Time: 0:14:25 Time: 0:14:25\n"
     ]
    },
    {
     "name": "stdout",
     "output_type": "stream",
     "text": [
      "DF:                                                 text  \\\n",
      "0  IN YOUR HEADSET...\\n\\nHeadsets are hands-down ...   \n",
      "1  (CNN) Three new reports from the US Centers fo...   \n",
      "2  Story highlights Trump wants China to do somet...   \n",
      "3  (CNN) The President's opioid commission on Wed...   \n",
      "4  Atlanta (CNN) We hear about those who've kicke...   \n",
      "\n",
      "                                               title  \n",
      "0                                    How to Watch VR  \n",
      "1  Heart disease deaths plummet, overdose deaths ...  \n",
      "2         China downplays role in US opioid epidemic  \n",
      "3  Opioid commission: We need drug courts, not pr...  \n",
      "4  'This is skid row': What two current heroin ad...  \n"
     ]
    },
    {
     "name": "stderr",
     "output_type": "stream",
     "text": [
      "\r",
      "                                                                               \r",
      "\r",
      "N/A% (0 of 208) |                        | Elapsed Time: 0:00:00 ETA:  --:--:--"
     ]
    },
    {
     "name": "stdout",
     "output_type": "stream",
     "text": [
      "\n",
      "Extracting articles from https://www.allsides.com/\n",
      "# of Articles: 208\n",
      "# of Article URLs: 208\n",
      "# of Relevant Articles: 208\n"
     ]
    },
    {
     "name": "stderr",
     "output_type": "stream",
     "text": [
      " 54% (114 of 208) |############           | Elapsed Time: 0:02:23 ETA:  0:00:57"
     ]
    },
    {
     "name": "stdout",
     "output_type": "stream",
     "text": [
      "Article `download()` failed with 404 Client Error: Not Found for url: https://www.allsides.com/blog/twitter%25E2%2580%2599s-new-safety-tools-what-do-you-think on URL https://www.allsides.com/blog/twitter%25E2%2580%2599s-new-safety-tools-what-do-you-think\n",
      "ERROR: URL No Longer Available...\n"
     ]
    },
    {
     "name": "stderr",
     "output_type": "stream",
     "text": [
      " 60% (125 of 208) |#############          | Elapsed Time: 0:02:31 ETA:  0:01:02"
     ]
    },
    {
     "name": "stdout",
     "output_type": "stream",
     "text": [
      "Article `download()` failed with 404 Client Error: Not Found for url: https://www.allsides.com/blog/trump%25E2%2580%2599s-economic-plan-other-media-contrasts-week on URL https://www.allsides.com/blog/trump%25E2%2580%2599s-economic-plan-other-media-contrasts-week\n",
      "ERROR: URL No Longer Available...\n"
     ]
    },
    {
     "name": "stderr",
     "output_type": "stream",
     "text": [
      " 62% (131 of 208) |##############         | Elapsed Time: 0:02:35 ETA:  0:00:46"
     ]
    },
    {
     "name": "stdout",
     "output_type": "stream",
     "text": [
      "Article `download()` failed with 404 Client Error: Not Found for url: https://www.allsides.com/blog/story-week-responding-last-week%25E2%2580%2599s-violence on URL https://www.allsides.com/blog/story-week-responding-last-week%25E2%2580%2599s-violence\n",
      "ERROR: URL No Longer Available...\n"
     ]
    },
    {
     "name": "stderr",
     "output_type": "stream",
     "text": [
      "100% (208 of 208) |#######################| Elapsed Time: 0:03:24 Time: 0:03:24\n"
     ]
    },
    {
     "name": "stdout",
     "output_type": "stream",
     "text": [
      "DF:                                                 text  \\\n",
      "0  What region do you want to see?\\n\\nThe Communi...   \n",
      "1  \"Save\" saves this article for you to read late...   \n",
      "2  \"Save\" saves this article for you to read late...   \n",
      "3  \"Save\" saves this article for you to read late...   \n",
      "4  What region do you want to see?\\n\\nThe Communi...   \n",
      "\n",
      "                                               title  \n",
      "0           Congressmen Call for Mueller Resignation  \n",
      "1  GOP Reps. Gaetz, Gohmert, Biggs push for Muell...  \n",
      "2  GOP lawmaker calls for Mueller recusal over ur...  \n",
      "3  It begins: Republican Congressmen introduce re...  \n",
      "4                  Warren Says DNC Rigged Nomination  \n"
     ]
    },
    {
     "name": "stderr",
     "output_type": "stream",
     "text": [
      "\r",
      "                                                                               \r",
      "\r",
      "N/A% (0 of 120) |                        | Elapsed Time: 0:00:00 ETA:  --:--:--"
     ]
    },
    {
     "name": "stdout",
     "output_type": "stream",
     "text": [
      "\n",
      "Extracting articles from https://www.theguardian.com/us/\n",
      "# of Articles: 120\n",
      "# of Article URLs: 120\n",
      "# of Relevant Articles: 120\n"
     ]
    },
    {
     "name": "stderr",
     "output_type": "stream",
     "text": [
      "100% (120 of 120) |#######################| Elapsed Time: 0:01:56 Time: 0:01:56\n"
     ]
    },
    {
     "name": "stdout",
     "output_type": "stream",
     "text": [
      "DF:                                                 text  \\\n",
      "0  The president seized on claims in former chair...   \n",
      "1  Donald Trump’s claim that the US has been atta...   \n",
      "2  The deactivation of @realDonaldTrump – apparen...   \n",
      "3  The trial of ex-Trump campaign officials Paul ...   \n",
      "4  Spanish judge’s move comes day after former me...   \n",
      "\n",
      "                                               title  \n",
      "0  Raging Trump demands FBI investigate Clinton, ...  \n",
      "1  Trump's claim US hitting Isis 'much harder' af...  \n",
      "2  Experts warn about security after Donald Trump...  \n",
      "3  Paul Manafort and Rick Gates trial date set fo...  \n",
      "4  European arrest warrant issued for ex-Catalan ...  \n"
     ]
    },
    {
     "name": "stderr",
     "output_type": "stream",
     "text": [
      "\r",
      "                                                                               \r",
      "\r",
      "N/A% (0 of 196) |                        | Elapsed Time: 0:00:00 ETA:  --:--:--"
     ]
    },
    {
     "name": "stdout",
     "output_type": "stream",
     "text": [
      "\n",
      "Extracting articles from https://www.nytimes.com/\n",
      "# of Articles: 196\n",
      "# of Article URLs: 196\n",
      "# of Relevant Articles: 196\n"
     ]
    },
    {
     "name": "stderr",
     "output_type": "stream",
     "text": [
      "100% (196 of 196) |#######################| Elapsed Time: 0:02:14 Time: 0:02:14\n"
     ]
    },
    {
     "name": "stdout",
     "output_type": "stream",
     "text": [
      "DF:                                                 text  \\\n",
      "0  The climate science report is part of a congre...   \n",
      "1  The climate science report is part of a congre...   \n",
      "2  For instance, the 2014 assessment forecast tha...   \n",
      "3  The White House is projecting robust economic ...   \n",
      "4  House Republicans on Thursday unveiled a bill ...   \n",
      "\n",
      "                                               title  \n",
      "0  U.S. Report Says Humans Cause Climate Change, ...  \n",
      "1  U.S. Report Says Humans Cause Climate Change, ...  \n",
      "2  What the Climate Report Says About the Impact ...  \n",
      "3  Republicans May Inject Health Care Mandate Deb...  \n",
      "4  The Five Biggest Changes for Families in the R...  \n"
     ]
    },
    {
     "name": "stderr",
     "output_type": "stream",
     "text": [
      "\r",
      "                                                                               \r",
      "\r",
      "N/A% (0 of 139) |                        | Elapsed Time: 0:00:00 ETA:  --:--:--"
     ]
    },
    {
     "name": "stdout",
     "output_type": "stream",
     "text": [
      "\n",
      "Extracting articles from https://www.washingtonpost.com/\n",
      "# of Articles: 139\n",
      "# of Article URLs: 139\n",
      "# of Relevant Articles: 139\n"
     ]
    },
    {
     "name": "stderr",
     "output_type": "stream",
     "text": [
      "100% (139 of 139) |#######################| Elapsed Time: 0:01:16 Time: 0:01:16\n"
     ]
    },
    {
     "name": "stdout",
     "output_type": "stream",
     "text": [
      "DF:                                                 text  \\\n",
      "0                                                      \n",
      "1                                                      \n",
      "2                                                      \n",
      "3  The leader of the Catholic Church spoke out ag...   \n",
      "4  \\n\\nA man prays at a memorial after the deadly...   \n",
      "\n",
      "                                               title  \n",
      "0                    Real or Fake: Past Games Events  \n",
      "1                   Two Truths and a Lie: Tom Cruise  \n",
      "2               Which Actors Starred in Indie Films?  \n",
      "3  Pope Francis’s ominous, emotional message abou...  \n",
      "4  ISIS claims suspected New York truck attacker ...  \n"
     ]
    },
    {
     "name": "stderr",
     "output_type": "stream",
     "text": [
      "\r",
      "                                                                               \r",
      "\r",
      "N/A% (0 of 1056) |                       | Elapsed Time: 0:00:00 ETA:  --:--:--"
     ]
    },
    {
     "name": "stdout",
     "output_type": "stream",
     "text": [
      "\n",
      "Extracting articles from https://www.nbcnews.com/\n",
      "# of Articles: 1056\n",
      "# of Article URLs: 1056\n",
      "# of Relevant Articles: 1056\n"
     ]
    },
    {
     "name": "stderr",
     "output_type": "stream",
     "text": [
      " 32% (339 of 1056) |#######               | Elapsed Time: 0:06:55 ETA:  0:10:06"
     ]
    },
    {
     "name": "stdout",
     "output_type": "stream",
     "text": [
      "Article `download()` failed with 404 Client Error: Not Found for url: https://www.nbcnews.com/dateline/news on URL https://www.nbcnews.com/dateline/news\n",
      "ERROR: URL No Longer Available...\n"
     ]
    },
    {
     "name": "stderr",
     "output_type": "stream",
     "text": [
      "100% (1056 of 1056) |#####################| Elapsed Time: 0:20:54 Time: 0:20:54\n"
     ]
    },
    {
     "name": "stdout",
     "output_type": "stream",
     "text": [
      "DF:                                                 text  \\\n",
      "0  ACLU Joins Lawsuit Against FBI by Scientist Fo...   \n",
      "1  Video\\n\\nWorkplace Harassment Can Never Be Tol...   \n",
      "2      NBC News works best with JavaScript turned on   \n",
      "3  NBC News Weather takes you up close to some of...   \n",
      "4  Taro Karibe / for NBC News\\n\\nN. Korea Abducte...   \n",
      "\n",
      "                                               title  \n",
      "0  U.S. News: Breaking News Photos, & Videos on t...  \n",
      "1  World News: Latest Breaking Global News Storie...  \n",
      "2                                     NBC Affiliates  \n",
      "3  Weather: News, Photos & Videos on Natural Disa...  \n",
      "4  Asian America: Community News, Information, Cu...  \n"
     ]
    },
    {
     "name": "stderr",
     "output_type": "stream",
     "text": [
      "\r",
      "                                                                               \r",
      "\r",
      "N/A% (0 of 334) |                        | Elapsed Time: 0:00:00 ETA:  --:--:--"
     ]
    },
    {
     "name": "stdout",
     "output_type": "stream",
     "text": [
      "\n",
      "Extracting articles from http://www.foxnews.com/\n",
      "# of Articles: 334\n",
      "# of Article URLs: 334\n",
      "# of Relevant Articles: 334\n"
     ]
    },
    {
     "name": "stderr",
     "output_type": "stream",
     "text": [
      "100% (334 of 334) |#######################| Elapsed Time: 0:03:25 Time: 0:03:25\n"
     ]
    },
    {
     "name": "stdout",
     "output_type": "stream",
     "text": [
      "DF:                                                 text  \\\n",
      "0                                                      \n",
      "1  President Trump tweeted Friday that Army Sgt. ...   \n",
      "2  The New York City Police Department said Frida...   \n",
      "3  Will the so-called \"Antifa apocalypse\" come wi...   \n",
      "4                                                      \n",
      "\n",
      "                                               title  \n",
      "0  Watch Fox News Channel and Fox Business Networ...  \n",
      "1  Bergdahl dishonorably discharged, no jail time...  \n",
      "2  Harvey Weinstein recent rape allegations are '...  \n",
      "3  Antifa apocalypse? Anarchist group's plan to o...  \n",
      "4  Watch Fox News Channel and Fox Business Networ...  \n"
     ]
    },
    {
     "name": "stderr",
     "output_type": "stream",
     "text": [
      "\r",
      "                                                                               \r",
      "\r",
      "N/A% (0 of 70) |                         | Elapsed Time: 0:00:00 ETA:  --:--:--"
     ]
    },
    {
     "name": "stdout",
     "output_type": "stream",
     "text": [
      "\n",
      "Extracting articles from http://www.latimes.com/hp-2/\n",
      "# of Articles: 70\n",
      "# of Article URLs: 70\n",
      "# of Relevant Articles: 70\n"
     ]
    },
    {
     "name": "stderr",
     "output_type": "stream",
     "text": [
      " 21% (15 of 70) |#####                    | Elapsed Time: 0:00:10 ETA:  0:00:46"
     ]
    },
    {
     "name": "stdout",
     "output_type": "stream",
     "text": [
      "You must `download()` an article first!\n",
      "ERROR: URL No Longer Available...\n"
     ]
    },
    {
     "name": "stderr",
     "output_type": "stream",
     "text": [
      " 95% (67 of 70) |#######################  | Elapsed Time: 0:00:57 ETA:  0:00:04"
     ]
    },
    {
     "name": "stdout",
     "output_type": "stream",
     "text": [
      "You must `download()` an article first!\n",
      "ERROR: URL No Longer Available...\n"
     ]
    },
    {
     "name": "stderr",
     "output_type": "stream",
     "text": [
      "\r",
      "                                                                               \r",
      "\r",
      " 97% (68 of 70) |######################## | Elapsed Time: 0:01:04 ETA:  0:00:04"
     ]
    },
    {
     "name": "stdout",
     "output_type": "stream",
     "text": [
      "You must `download()` an article first!\n",
      "ERROR: URL No Longer Available...\n"
     ]
    },
    {
     "name": "stderr",
     "output_type": "stream",
     "text": [
      "\r",
      "                                                                               \r",
      "\r",
      " 98% (69 of 70) |######################## | Elapsed Time: 0:01:11 ETA:  0:00:02"
     ]
    },
    {
     "name": "stdout",
     "output_type": "stream",
     "text": [
      "You must `download()` an article first!\n",
      "ERROR: URL No Longer Available...\n"
     ]
    },
    {
     "name": "stderr",
     "output_type": "stream",
     "text": [
      "100% (70 of 70) |#########################| Elapsed Time: 0:01:18 Time: 0:01:18\n"
     ]
    },
    {
     "name": "stdout",
     "output_type": "stream",
     "text": [
      "You must `download()` an article first!\n",
      "ERROR: URL No Longer Available...\n",
      "DF:                                                 text  \\\n",
      "0  New York City police investigators say a 2010 ...   \n",
      "1  House Republicans produced an ambitious propos...   \n",
      "2  In a highly unusual move, the Justice Departme...   \n",
      "3  A massive U.S. report concludes that the evide...   \n",
      "4  Sukhrob Sobirov was 20 when he left Uzbekistan...   \n",
      "\n",
      "                                               title  \n",
      "0  NYPD gathering evidence to arrest Harvey Weins...  \n",
      "1  House Republicans produced an ambitious tax ov...  \n",
      "2  Trump administration asks Supreme Court to pun...  \n",
      "3  U.S. report contradicts Trump team: Warming is...  \n",
      "4  Uzbek community in New York wary of being tied...  \n"
     ]
    }
   ],
   "source": [
    "# Define the news websites to scrape from\n",
    "cnn = \"http://cnn.com\"\n",
    "allSides = \"https://www.allsides.com/\"\n",
    "guardian = \"https://www.theguardian.com/us/\"\n",
    "NYT = \"https://www.nytimes.com/\"\n",
    "wapo = \"https://www.washingtonpost.com/\"\n",
    "nbc = \"https://www.nbcnews.com/\"\n",
    "fox = \"http://www.foxnews.com/\"\n",
    "lat = \"http://www.latimes.com/hp-2/\"\n",
    "\n",
    "site_list = [cnn, allSides, guardian, NYT, wapo, nbc, fox, lat]\n",
    "#site_list = [wapo]\n",
    "articles = get_articles(site_list)\n",
    "articles[\"text\"] = articles.text.map(clean_text)\n",
    "articles[\"text\"] = preprocess_articles(articles.text)\n",
    "\n",
    "# Save to CSV\n",
    "articles.to_csv('real_news.csv')"
   ]
  },
  {
   "cell_type": "code",
   "execution_count": null,
   "metadata": {
    "collapsed": true
   },
   "outputs": [],
   "source": []
  },
  {
   "cell_type": "code",
   "execution_count": null,
   "metadata": {
    "collapsed": true
   },
   "outputs": [],
   "source": []
  }
 ],
 "metadata": {
  "kernelspec": {
   "display_name": "Python 3",
   "language": "python",
   "name": "python3"
  },
  "language_info": {
   "codemirror_mode": {
    "name": "ipython",
    "version": 3
   },
   "file_extension": ".py",
   "mimetype": "text/x-python",
   "name": "python",
   "nbconvert_exporter": "python",
   "pygments_lexer": "ipython3",
   "version": "3.6.3"
  }
 },
 "nbformat": 4,
 "nbformat_minor": 2
}
